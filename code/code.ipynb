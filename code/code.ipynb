{
 "cells": [
  {
   "cell_type": "code",
   "execution_count": 3,
   "id": "171dbd24",
   "metadata": {},
   "outputs": [],
   "source": [
    "import gensim.downloader as api\n",
    "import numpy as np"
   ]
  },
  {
   "cell_type": "code",
   "execution_count": 4,
   "id": "f988e4db",
   "metadata": {},
   "outputs": [
    {
     "name": "stdout",
     "output_type": "stream",
     "text": [
      "[==================================================] 100.0% 104.8/104.8MB downloaded\n"
     ]
    }
   ],
   "source": [
    "# Download and load the pre-trained model from Twitter\n",
    "word2vec_model = api.load(\"glove-twitter-25\")\n",
    "\n",
    "# Get word vectors\n",
    "word_vector1 = word2vec_model['usa']\n",
    "word_vector2 = word2vec_model['bitcoin']"
   ]
  },
  {
   "cell_type": "code",
   "execution_count": 5,
   "id": "2b79d77b",
   "metadata": {},
   "outputs": [
    {
     "name": "stdout",
     "output_type": "stream",
     "text": [
      "Word Vector 1 (usa): [ 8.0162e-01 -3.0809e-01 -1.2281e-01 -8.6137e-01 -2.6014e-02 -2.8650e-01\n",
      " -1.3136e-01  8.8675e-01  5.7486e-01 -2.6893e-01  5.9729e-01 -1.7703e+00\n",
      " -3.4071e+00 -2.7768e-01 -2.8647e-02  2.3267e-03 -5.6567e-01 -2.5258e-01\n",
      "  2.3715e-01 -4.0092e-02 -4.4751e-01 -2.2098e-01  3.2380e-01 -8.7039e-01\n",
      "  1.4465e-01]\n",
      "Word Vector 2 (bitcoin): [ 0.1881    0.64912  -1.2528   -0.43847   0.49482  -0.81364  -0.43148\n",
      " -0.91698   0.77069   0.20079   1.3165   -0.17587  -2.2667   -0.27094\n",
      "  0.428    -0.74445  -0.034637  0.28699   1.0829    0.31391  -0.75577\n",
      " -0.85452   0.29899  -0.71099  -1.12    ]\n"
     ]
    }
   ],
   "source": [
    "# Run this cell\n",
    "print(\"Word Vector 1 (usa):\", word_vector1)\n",
    "print(\"Word Vector 2 (bitcoin):\", word_vector2)"
   ]
  },
  {
   "cell_type": "code",
   "execution_count": 6,
   "id": "8cb781c4",
   "metadata": {},
   "outputs": [
    {
     "name": "stdout",
     "output_type": "stream",
     "text": [
      "Result Vector: [ 0.98972     0.34102997 -1.37561    -1.29984     0.468806   -1.10014\n",
      " -0.56284    -0.03023005  1.3455501  -0.06813999  1.91379    -1.9461701\n",
      " -5.6738     -0.54862     0.399353   -0.74212325 -0.600307    0.03441\n",
      "  1.32005     0.27381802 -1.20328    -1.0755      0.62279    -1.58138\n",
      " -0.97535   ]\n"
     ]
    }
   ],
   "source": [
    "result_vector = word_vector1 + word_vector2\n",
    "\n",
    "# Print the results\n",
    "print(\"Result Vector:\", result_vector)"
   ]
  },
  {
   "cell_type": "code",
   "execution_count": 7,
   "id": "1dba4d82",
   "metadata": {},
   "outputs": [
    {
     "name": "stdout",
     "output_type": "stream",
     "text": [
      "Most Similar Words to Result Vector:\n",
      "usa: 0.8956946730613708\n",
      "mobile: 0.8799338340759277\n",
      "bitcoin: 0.8791206479072571\n",
      "china: 0.866250216960907\n",
      "uk: 0.8605826497077942\n",
      "apple: 0.8585238456726074\n",
      "local: 0.8549909591674805\n",
      "microsoft: 0.8411239385604858\n",
      "samsung: 0.8377188444137573\n",
      "tech: 0.8374107480049133\n"
     ]
    }
   ],
   "source": [
    "# Find the most similar words to the result vector (remember adding king and queen should give us various royalty)\n",
    "most_similar_words = word2vec_model.similar_by_vector(result_vector, topn=10)\n",
    "\n",
    "# Print the most similar words\n",
    "print(\"Most Similar Words to Result Vector:\")\n",
    "for word, similarity in most_similar_words:\n",
    "    print(f\"{word}: {similarity}\")"
   ]
  },
  {
   "cell_type": "code",
   "execution_count": null,
   "id": "bca3028f",
   "metadata": {},
   "outputs": [],
   "source": []
  }
 ],
 "metadata": {
  "kernelspec": {
   "display_name": "base",
   "language": "python",
   "name": "python3"
  },
  "language_info": {
   "codemirror_mode": {
    "name": "ipython",
    "version": 3
   },
   "file_extension": ".py",
   "mimetype": "text/x-python",
   "name": "python",
   "nbconvert_exporter": "python",
   "pygments_lexer": "ipython3",
   "version": "3.8.8"
  }
 },
 "nbformat": 4,
 "nbformat_minor": 5
}
